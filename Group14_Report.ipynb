{
 "cells": [
  {
   "cell_type": "markdown",
   "metadata": {},
   "source": [
    "\n",
    "# <center>INSERT TITLE HERE\n",
    "   "
   ]
  },
  {
   "cell_type": "markdown",
   "metadata": {},
   "source": [
    "## Introduction:\n"
   ]
  },
  {
   "cell_type": "markdown",
   "metadata": {},
   "source": [
    "### 1. Provide some relevant background information on the topic so that someone unfamiliar with it will be prepared to understand the rest of your report**"
   ]
  },
  {
   "cell_type": "markdown",
   "metadata": {},
   "source": [
    "The majority of the population will share links without reading the content, according to The Washington Post.  For online media distribution, an effective measure of success can be the number of “shares” that a piece receives. "
   ]
  },
  {
   "cell_type": "markdown",
   "metadata": {},
   "source": [
    "### 2. Clearly state the question you tried to answer with your project\n"
   ]
  },
  {
   "cell_type": "markdown",
   "metadata": {},
   "source": [
    "Based on the number of words in the title, the number of keywords in the metadata, and the absolute polarity of the title and as well as the genre, can we predict the number of shares? "
   ]
  },
  {
   "cell_type": "markdown",
   "metadata": {},
   "source": [
    "### 3. Identify and describe the dataset that was used to answer the question"
   ]
  },
  {
   "cell_type": "markdown",
   "metadata": {},
   "source": [
    "The dataset we have chosen to work with is the Online News Popularity dataset from 2015. We will be using OnlineNewPoplarity.csv. This dataset contains 61 different attributes and outlines the genre of 39797 articles, the number of words in the title, the number of keywords in the metadata, and the absolute polarity of the article title.\n"
   ]
  },
  {
   "cell_type": "markdown",
   "metadata": {},
   "source": [
    "## Methods and Results:"
   ]
  },
  {
   "cell_type": "markdown",
   "metadata": {},
   "source": [
    "### 1. Describe in written English the methods you used to perform your analysis from beginning to end that narrates the code the does the analysis"
   ]
  },
  {
   "cell_type": "markdown",
   "metadata": {},
   "source": [
    "## Discussion:"
   ]
  },
  {
   "cell_type": "markdown",
   "metadata": {},
   "source": [
    "### 1. Summarize what you found"
   ]
  },
  {
   "cell_type": "markdown",
   "metadata": {},
   "source": [
    "### 2. Discuss whether this is what you expected to find?\n"
   ]
  },
  {
   "cell_type": "markdown",
   "metadata": {},
   "source": [
    "### 3. Discuss what impact could such findings have?\n"
   ]
  },
  {
   "cell_type": "markdown",
   "metadata": {},
   "source": [
    "### 4. Discuss what future questions could this lead to?"
   ]
  },
  {
   "cell_type": "markdown",
   "metadata": {},
   "source": [
    "## References:"
   ]
  },
  {
   "cell_type": "markdown",
   "metadata": {},
   "source": [
    "Jamali, H.R., & Nikzad M. (2011, May 19). Article title type and its relation with the number of downloads and citations.    AKJournals.https://akjournals.com/view/journals/11192/88/2/article-p653.xml \n"
   ]
  },
  {
   "cell_type": "markdown",
   "metadata": {},
   "source": [
    "Laband, D. N. (2007, September 28). Article popularity. Wiley Online Library. \n",
    "https://onlinelibrary.wiley.com/doi/abs/10.1111/j.1465-7295.1986.tb01804.x?casa_token=plD0xdbxHQAAAAAA%3ARdbv2mYC-WJwefIPDWLZQR5dcFyZJiv7thMYWH70fZVumks38wlYblSL-_JpTJlKg4NSyJqn1kHVL6P0. \n"
   ]
  },
  {
   "cell_type": "markdown",
   "metadata": {},
   "source": [
    "Stokowiec, W., Trzciński T., Wołk K., Marasek K., & Rokita P. (2017, June 14). Shallow Reading with Deep Learning: Predicting Popularity of Online Content Using only Its Title. Springer Link.\n",
    "https://link.springer.com/chapter/10.1007/978-3-319-60438-1_14 \n"
   ]
  },
  {
   "cell_type": "code",
   "execution_count": null,
   "metadata": {},
   "outputs": [],
   "source": []
  }
 ],
 "metadata": {
  "kernelspec": {
   "display_name": "R",
   "language": "R",
   "name": "ir"
  },
  "language_info": {
   "codemirror_mode": "r",
   "file_extension": ".r",
   "mimetype": "text/x-r-source",
   "name": "R",
   "pygments_lexer": "r",
   "version": "4.0.0"
  }
 },
 "nbformat": 4,
 "nbformat_minor": 4
}
