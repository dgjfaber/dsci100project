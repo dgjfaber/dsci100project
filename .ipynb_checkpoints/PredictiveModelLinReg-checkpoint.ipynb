{
 "cells": [
  {
   "cell_type": "code",
   "execution_count": 4,
   "metadata": {},
   "outputs": [
    {
     "name": "stderr",
     "output_type": "stream",
     "text": [
      "── \u001b[1mAttaching packages\u001b[22m ─────────────────────────────────────── tidyverse 1.3.0 ──\n",
      "\n",
      "\u001b[32m✔\u001b[39m \u001b[34mggplot2\u001b[39m 3.3.2     \u001b[32m✔\u001b[39m \u001b[34mpurrr  \u001b[39m 0.3.4\n",
      "\u001b[32m✔\u001b[39m \u001b[34mtibble \u001b[39m 3.0.3     \u001b[32m✔\u001b[39m \u001b[34mdplyr  \u001b[39m 1.0.2\n",
      "\u001b[32m✔\u001b[39m \u001b[34mtidyr  \u001b[39m 1.1.2     \u001b[32m✔\u001b[39m \u001b[34mstringr\u001b[39m 1.4.0\n",
      "\u001b[32m✔\u001b[39m \u001b[34mreadr  \u001b[39m 1.3.1     \u001b[32m✔\u001b[39m \u001b[34mforcats\u001b[39m 0.5.0\n",
      "\n",
      "Warning message:\n",
      "“package ‘ggplot2’ was built under R version 4.0.1”\n",
      "Warning message:\n",
      "“package ‘tibble’ was built under R version 4.0.2”\n",
      "Warning message:\n",
      "“package ‘tidyr’ was built under R version 4.0.2”\n",
      "Warning message:\n",
      "“package ‘dplyr’ was built under R version 4.0.2”\n",
      "── \u001b[1mConflicts\u001b[22m ────────────────────────────────────────── tidyverse_conflicts() ──\n",
      "\u001b[31m✖\u001b[39m \u001b[34mdplyr\u001b[39m::\u001b[32mfilter()\u001b[39m masks \u001b[34mstats\u001b[39m::filter()\n",
      "\u001b[31m✖\u001b[39m \u001b[34mdplyr\u001b[39m::\u001b[32mlag()\u001b[39m    masks \u001b[34mstats\u001b[39m::lag()\n",
      "\n",
      "Warning message:\n",
      "“package ‘tidymodels’ was built under R version 4.0.2”\n",
      "── \u001b[1mAttaching packages\u001b[22m ────────────────────────────────────── tidymodels 0.1.1 ──\n",
      "\n",
      "\u001b[32m✔\u001b[39m \u001b[34mbroom    \u001b[39m 0.7.0      \u001b[32m✔\u001b[39m \u001b[34mrecipes  \u001b[39m 0.1.13\n",
      "\u001b[32m✔\u001b[39m \u001b[34mdials    \u001b[39m 0.0.9      \u001b[32m✔\u001b[39m \u001b[34mrsample  \u001b[39m 0.0.7 \n",
      "\u001b[32m✔\u001b[39m \u001b[34minfer    \u001b[39m 0.5.4      \u001b[32m✔\u001b[39m \u001b[34mtune     \u001b[39m 0.1.1 \n",
      "\u001b[32m✔\u001b[39m \u001b[34mmodeldata\u001b[39m 0.0.2      \u001b[32m✔\u001b[39m \u001b[34mworkflows\u001b[39m 0.2.0 \n",
      "\u001b[32m✔\u001b[39m \u001b[34mparsnip  \u001b[39m 0.1.3      \u001b[32m✔\u001b[39m \u001b[34myardstick\u001b[39m 0.0.7 \n",
      "\n",
      "Warning message:\n",
      "“package ‘broom’ was built under R version 4.0.2”\n",
      "Warning message:\n",
      "“package ‘dials’ was built under R version 4.0.2”\n",
      "Warning message:\n",
      "“package ‘infer’ was built under R version 4.0.3”\n",
      "Warning message:\n",
      "“package ‘modeldata’ was built under R version 4.0.1”\n",
      "Warning message:\n",
      "“package ‘parsnip’ was built under R version 4.0.2”\n",
      "Warning message:\n",
      "“package ‘recipes’ was built under R version 4.0.1”\n",
      "Warning message:\n",
      "“package ‘tune’ was built under R version 4.0.2”\n",
      "Warning message:\n",
      "“package ‘workflows’ was built under R version 4.0.2”\n",
      "Warning message:\n",
      "“package ‘yardstick’ was built under R version 4.0.2”\n",
      "── \u001b[1mConflicts\u001b[22m ───────────────────────────────────────── tidymodels_conflicts() ──\n",
      "\u001b[31m✖\u001b[39m \u001b[34mscales\u001b[39m::\u001b[32mdiscard()\u001b[39m masks \u001b[34mpurrr\u001b[39m::discard()\n",
      "\u001b[31m✖\u001b[39m \u001b[34mdplyr\u001b[39m::\u001b[32mfilter()\u001b[39m   masks \u001b[34mstats\u001b[39m::filter()\n",
      "\u001b[31m✖\u001b[39m \u001b[34mrecipes\u001b[39m::\u001b[32mfixed()\u001b[39m  masks \u001b[34mstringr\u001b[39m::fixed()\n",
      "\u001b[31m✖\u001b[39m \u001b[34mdplyr\u001b[39m::\u001b[32mlag()\u001b[39m      masks \u001b[34mstats\u001b[39m::lag()\n",
      "\u001b[31m✖\u001b[39m \u001b[34myardstick\u001b[39m::\u001b[32mspec()\u001b[39m masks \u001b[34mreadr\u001b[39m::spec()\n",
      "\u001b[31m✖\u001b[39m \u001b[34mrecipes\u001b[39m::\u001b[32mstep()\u001b[39m   masks \u001b[34mstats\u001b[39m::step()\n",
      "\n"
     ]
    }
   ],
   "source": [
    "library(tidyverse)\n",
    "library(repr)\n",
    "library(tidymodels)"
   ]
  },
  {
   "cell_type": "code",
   "execution_count": 5,
   "metadata": {},
   "outputs": [
    {
     "name": "stderr",
     "output_type": "stream",
     "text": [
      "Parsed with column specification:\n",
      "cols(\n",
      "  .default = col_double(),\n",
      "  url = \u001b[31mcol_character()\u001b[39m\n",
      ")\n",
      "\n",
      "See spec(...) for full column specifications.\n",
      "\n"
     ]
    }
   ],
   "source": [
    "data <- read_csv(\"https://docs.google.com/spreadsheets/d/e/2PACX-1vSTyupJYW8-dOI7rTKOVE-bMT4M_8UnVnRLOJGavyVh33-4wHTkP4Q-uWX9mwMQul2kxMl8aJLR0FHB/pub?output=csv\")"
   ]
  },
  {
   "cell_type": "code",
   "execution_count": 6,
   "metadata": {},
   "outputs": [],
   "source": [
    "\n",
    "\n",
    "named_data <- data %>%\n",
    "    rename(\n",
    "        monday = weekday_is_monday,\n",
    "        tuesday = weekday_is_tuesday,\n",
    "        wednesday = weekday_is_wednesday,\n",
    "        thursday = weekday_is_thursday,\n",
    "        friday = weekday_is_friday,\n",
    "        saturday = weekday_is_saturday,\n",
    "        sunday = weekday_is_sunday,\n",
    "        lifestyle = data_channel_is_lifestyle,\n",
    "        entertainment =  data_channel_is_entertainment,\n",
    "        business = data_channel_is_bus,\n",
    "        social_media =  data_channel_is_socmed,\n",
    "        technology =  data_channel_is_tech,\n",
    "        world =  data_channel_is_world\n",
    "    )\n"
   ]
  },
  {
   "cell_type": "code",
   "execution_count": 7,
   "metadata": {},
   "outputs": [
    {
     "data": {
      "text/html": [
       "<table>\n",
       "<caption>A tibble: 6 × 9</caption>\n",
       "<thead>\n",
       "\t<tr><th scope=col>Genre</th><th scope=col>Day_Of_Week</th><th scope=col>n_tokens_title</th><th scope=col>num_keywords</th><th scope=col>title_subjectivity</th><th scope=col>abs_title_subjectivity</th><th scope=col>title_sentiment_polarity</th><th scope=col>abs_title_sentiment_polarity</th><th scope=col>shares</th></tr>\n",
       "\t<tr><th scope=col>&lt;fct&gt;</th><th scope=col>&lt;fct&gt;</th><th scope=col>&lt;dbl&gt;</th><th scope=col>&lt;dbl&gt;</th><th scope=col>&lt;dbl&gt;</th><th scope=col>&lt;dbl&gt;</th><th scope=col>&lt;dbl&gt;</th><th scope=col>&lt;dbl&gt;</th><th scope=col>&lt;dbl&gt;</th></tr>\n",
       "</thead>\n",
       "<tbody>\n",
       "\t<tr><td>entertainment</td><td>monday</td><td>12</td><td>5</td><td>0.5000000</td><td>0.00000000</td><td>-0.1875000</td><td>0.1875000</td><td> 593</td></tr>\n",
       "\t<tr><td>business     </td><td>monday</td><td> 9</td><td>4</td><td>0.0000000</td><td>0.50000000</td><td> 0.0000000</td><td>0.0000000</td><td> 711</td></tr>\n",
       "\t<tr><td>business     </td><td>monday</td><td> 9</td><td>6</td><td>0.0000000</td><td>0.50000000</td><td> 0.0000000</td><td>0.0000000</td><td>1500</td></tr>\n",
       "\t<tr><td>entertainment</td><td>monday</td><td> 9</td><td>7</td><td>0.0000000</td><td>0.50000000</td><td> 0.0000000</td><td>0.0000000</td><td>1200</td></tr>\n",
       "\t<tr><td>technology   </td><td>monday</td><td>13</td><td>7</td><td>0.4545455</td><td>0.04545455</td><td> 0.1363636</td><td>0.1363636</td><td> 505</td></tr>\n",
       "\t<tr><td>technology   </td><td>monday</td><td>10</td><td>9</td><td>0.6428571</td><td>0.14285714</td><td> 0.2142857</td><td>0.2142857</td><td> 855</td></tr>\n",
       "</tbody>\n",
       "</table>\n"
      ],
      "text/latex": [
       "A tibble: 6 × 9\n",
       "\\begin{tabular}{lllllllll}\n",
       " Genre & Day\\_Of\\_Week & n\\_tokens\\_title & num\\_keywords & title\\_subjectivity & abs\\_title\\_subjectivity & title\\_sentiment\\_polarity & abs\\_title\\_sentiment\\_polarity & shares\\\\\n",
       " <fct> & <fct> & <dbl> & <dbl> & <dbl> & <dbl> & <dbl> & <dbl> & <dbl>\\\\\n",
       "\\hline\n",
       "\t entertainment & monday & 12 & 5 & 0.5000000 & 0.00000000 & -0.1875000 & 0.1875000 &  593\\\\\n",
       "\t business      & monday &  9 & 4 & 0.0000000 & 0.50000000 &  0.0000000 & 0.0000000 &  711\\\\\n",
       "\t business      & monday &  9 & 6 & 0.0000000 & 0.50000000 &  0.0000000 & 0.0000000 & 1500\\\\\n",
       "\t entertainment & monday &  9 & 7 & 0.0000000 & 0.50000000 &  0.0000000 & 0.0000000 & 1200\\\\\n",
       "\t technology    & monday & 13 & 7 & 0.4545455 & 0.04545455 &  0.1363636 & 0.1363636 &  505\\\\\n",
       "\t technology    & monday & 10 & 9 & 0.6428571 & 0.14285714 &  0.2142857 & 0.2142857 &  855\\\\\n",
       "\\end{tabular}\n"
      ],
      "text/markdown": [
       "\n",
       "A tibble: 6 × 9\n",
       "\n",
       "| Genre &lt;fct&gt; | Day_Of_Week &lt;fct&gt; | n_tokens_title &lt;dbl&gt; | num_keywords &lt;dbl&gt; | title_subjectivity &lt;dbl&gt; | abs_title_subjectivity &lt;dbl&gt; | title_sentiment_polarity &lt;dbl&gt; | abs_title_sentiment_polarity &lt;dbl&gt; | shares &lt;dbl&gt; |\n",
       "|---|---|---|---|---|---|---|---|---|\n",
       "| entertainment | monday | 12 | 5 | 0.5000000 | 0.00000000 | -0.1875000 | 0.1875000 |  593 |\n",
       "| business      | monday |  9 | 4 | 0.0000000 | 0.50000000 |  0.0000000 | 0.0000000 |  711 |\n",
       "| business      | monday |  9 | 6 | 0.0000000 | 0.50000000 |  0.0000000 | 0.0000000 | 1500 |\n",
       "| entertainment | monday |  9 | 7 | 0.0000000 | 0.50000000 |  0.0000000 | 0.0000000 | 1200 |\n",
       "| technology    | monday | 13 | 7 | 0.4545455 | 0.04545455 |  0.1363636 | 0.1363636 |  505 |\n",
       "| technology    | monday | 10 | 9 | 0.6428571 | 0.14285714 |  0.2142857 | 0.2142857 |  855 |\n",
       "\n"
      ],
      "text/plain": [
       "  Genre         Day_Of_Week n_tokens_title num_keywords title_subjectivity\n",
       "1 entertainment monday      12             5            0.5000000         \n",
       "2 business      monday       9             4            0.0000000         \n",
       "3 business      monday       9             6            0.0000000         \n",
       "4 entertainment monday       9             7            0.0000000         \n",
       "5 technology    monday      13             7            0.4545455         \n",
       "6 technology    monday      10             9            0.6428571         \n",
       "  abs_title_subjectivity title_sentiment_polarity abs_title_sentiment_polarity\n",
       "1 0.00000000             -0.1875000               0.1875000                   \n",
       "2 0.50000000              0.0000000               0.0000000                   \n",
       "3 0.50000000              0.0000000               0.0000000                   \n",
       "4 0.50000000              0.0000000               0.0000000                   \n",
       "5 0.04545455              0.1363636               0.1363636                   \n",
       "6 0.14285714              0.2142857               0.2142857                   \n",
       "  shares\n",
       "1  593  \n",
       "2  711  \n",
       "3 1500  \n",
       "4 1200  \n",
       "5  505  \n",
       "6  855  "
      ]
     },
     "metadata": {},
     "output_type": "display_data"
    }
   ],
   "source": [
    "#It didn't work when all in one pipe, I have no idea why. This seems to work though\n",
    "tidy_data <- named_data %>%\n",
    "    pivot_longer(cols =  lifestyle:world, \n",
    "                 names_to = 'Genre', \n",
    "                 values_to = 'Genre_Present') %>%\n",
    "    filter(Genre_Present == 1) %>%\n",
    "    pivot_longer(cols =   monday:sunday, \n",
    "                 names_to = 'Day_Of_Week', \n",
    "                 values_to = 'Day_Present') %>%\n",
    "    filter(Day_Present == 1) %>%\n",
    "    mutate(abs_pos_neg_ratio = (global_rate_positive_words*avg_positive_polarity)/abs(global_rate_negative_words*avg_negative_polarity)) %>%\n",
    "    filter(global_rate_positive_words != 0 & global_rate_negative_words != 0) %>%\n",
    "    mutate(Genre = as_factor(Genre)) %>%\n",
    "    mutate(Day_Of_Week = as_factor(Day_Of_Week)) %>%\n",
    "    #select(Genre, Day_Of_Week, n_tokens_title, title_subjectivity,title_sentiment_polarity, shares)\n",
    "    select(Genre, Day_Of_Week, n_tokens_title, num_keywords, title_subjectivity, abs_title_subjectivity, title_sentiment_polarity,abs_title_sentiment_polarity, shares)\n",
    "\n",
    "\n",
    "#tidy_data <- filter(tidy_data, Genre == \"world\") %>%\n",
    "#    select(-Genre)\n",
    "\n",
    "head(tidy_data)\n"
   ]
  },
  {
   "cell_type": "code",
   "execution_count": 8,
   "metadata": {},
   "outputs": [
    {
     "data": {
      "text/html": [
       "<table>\n",
       "<caption>A tibble: 6 × 9</caption>\n",
       "<thead>\n",
       "\t<tr><th scope=col>Genre</th><th scope=col>Day_Of_Week</th><th scope=col>n_tokens_title</th><th scope=col>num_keywords</th><th scope=col>title_subjectivity</th><th scope=col>abs_title_subjectivity</th><th scope=col>title_sentiment_polarity</th><th scope=col>abs_title_sentiment_polarity</th><th scope=col>shares</th></tr>\n",
       "\t<tr><th scope=col>&lt;fct&gt;</th><th scope=col>&lt;fct&gt;</th><th scope=col>&lt;dbl&gt;</th><th scope=col>&lt;dbl&gt;</th><th scope=col>&lt;dbl&gt;</th><th scope=col>&lt;dbl&gt;</th><th scope=col>&lt;dbl&gt;</th><th scope=col>&lt;dbl&gt;</th><th scope=col>&lt;dbl&gt;</th></tr>\n",
       "</thead>\n",
       "<tbody>\n",
       "\t<tr><td>entertainment</td><td>monday</td><td>12</td><td>5</td><td>0.5000000</td><td>0.0000000</td><td>-0.1875000</td><td>0.1875000</td><td> 593</td></tr>\n",
       "\t<tr><td>business     </td><td>monday</td><td> 9</td><td>4</td><td>0.0000000</td><td>0.5000000</td><td> 0.0000000</td><td>0.0000000</td><td> 711</td></tr>\n",
       "\t<tr><td>entertainment</td><td>monday</td><td> 9</td><td>7</td><td>0.0000000</td><td>0.5000000</td><td> 0.0000000</td><td>0.0000000</td><td>1200</td></tr>\n",
       "\t<tr><td>technology   </td><td>monday</td><td>10</td><td>9</td><td>0.6428571</td><td>0.1428571</td><td> 0.2142857</td><td>0.2142857</td><td> 855</td></tr>\n",
       "\t<tr><td>technology   </td><td>monday</td><td>12</td><td>9</td><td>1.0000000</td><td>0.5000000</td><td> 0.5000000</td><td>0.5000000</td><td> 891</td></tr>\n",
       "\t<tr><td>world        </td><td>monday</td><td>10</td><td>5</td><td>0.0000000</td><td>0.5000000</td><td> 0.0000000</td><td>0.0000000</td><td> 710</td></tr>\n",
       "</tbody>\n",
       "</table>\n"
      ],
      "text/latex": [
       "A tibble: 6 × 9\n",
       "\\begin{tabular}{lllllllll}\n",
       " Genre & Day\\_Of\\_Week & n\\_tokens\\_title & num\\_keywords & title\\_subjectivity & abs\\_title\\_subjectivity & title\\_sentiment\\_polarity & abs\\_title\\_sentiment\\_polarity & shares\\\\\n",
       " <fct> & <fct> & <dbl> & <dbl> & <dbl> & <dbl> & <dbl> & <dbl> & <dbl>\\\\\n",
       "\\hline\n",
       "\t entertainment & monday & 12 & 5 & 0.5000000 & 0.0000000 & -0.1875000 & 0.1875000 &  593\\\\\n",
       "\t business      & monday &  9 & 4 & 0.0000000 & 0.5000000 &  0.0000000 & 0.0000000 &  711\\\\\n",
       "\t entertainment & monday &  9 & 7 & 0.0000000 & 0.5000000 &  0.0000000 & 0.0000000 & 1200\\\\\n",
       "\t technology    & monday & 10 & 9 & 0.6428571 & 0.1428571 &  0.2142857 & 0.2142857 &  855\\\\\n",
       "\t technology    & monday & 12 & 9 & 1.0000000 & 0.5000000 &  0.5000000 & 0.5000000 &  891\\\\\n",
       "\t world         & monday & 10 & 5 & 0.0000000 & 0.5000000 &  0.0000000 & 0.0000000 &  710\\\\\n",
       "\\end{tabular}\n"
      ],
      "text/markdown": [
       "\n",
       "A tibble: 6 × 9\n",
       "\n",
       "| Genre &lt;fct&gt; | Day_Of_Week &lt;fct&gt; | n_tokens_title &lt;dbl&gt; | num_keywords &lt;dbl&gt; | title_subjectivity &lt;dbl&gt; | abs_title_subjectivity &lt;dbl&gt; | title_sentiment_polarity &lt;dbl&gt; | abs_title_sentiment_polarity &lt;dbl&gt; | shares &lt;dbl&gt; |\n",
       "|---|---|---|---|---|---|---|---|---|\n",
       "| entertainment | monday | 12 | 5 | 0.5000000 | 0.0000000 | -0.1875000 | 0.1875000 |  593 |\n",
       "| business      | monday |  9 | 4 | 0.0000000 | 0.5000000 |  0.0000000 | 0.0000000 |  711 |\n",
       "| entertainment | monday |  9 | 7 | 0.0000000 | 0.5000000 |  0.0000000 | 0.0000000 | 1200 |\n",
       "| technology    | monday | 10 | 9 | 0.6428571 | 0.1428571 |  0.2142857 | 0.2142857 |  855 |\n",
       "| technology    | monday | 12 | 9 | 1.0000000 | 0.5000000 |  0.5000000 | 0.5000000 |  891 |\n",
       "| world         | monday | 10 | 5 | 0.0000000 | 0.5000000 |  0.0000000 | 0.0000000 |  710 |\n",
       "\n"
      ],
      "text/plain": [
       "  Genre         Day_Of_Week n_tokens_title num_keywords title_subjectivity\n",
       "1 entertainment monday      12             5            0.5000000         \n",
       "2 business      monday       9             4            0.0000000         \n",
       "3 entertainment monday       9             7            0.0000000         \n",
       "4 technology    monday      10             9            0.6428571         \n",
       "5 technology    monday      12             9            1.0000000         \n",
       "6 world         monday      10             5            0.0000000         \n",
       "  abs_title_subjectivity title_sentiment_polarity abs_title_sentiment_polarity\n",
       "1 0.0000000              -0.1875000               0.1875000                   \n",
       "2 0.5000000               0.0000000               0.0000000                   \n",
       "3 0.5000000               0.0000000               0.0000000                   \n",
       "4 0.1428571               0.2142857               0.2142857                   \n",
       "5 0.5000000               0.5000000               0.5000000                   \n",
       "6 0.5000000               0.0000000               0.0000000                   \n",
       "  shares\n",
       "1  593  \n",
       "2  711  \n",
       "3 1200  \n",
       "4  855  \n",
       "5  891  \n",
       "6  710  "
      ]
     },
     "metadata": {},
     "output_type": "display_data"
    }
   ],
   "source": [
    "set.seed(1234)\n",
    "publishing_split <- initial_split(tidy_data, prop = 0.6, strata = shares)\n",
    "publishing_train <- training(publishing_split)\n",
    "publishing_test <- testing(publishing_split)\n",
    "\n",
    "head(publishing_train)"
   ]
  },
  {
   "cell_type": "code",
   "execution_count": 145,
   "metadata": {},
   "outputs": [],
   "source": [
    "share_spec <- linear_reg() %>% \n",
    "       set_engine(\"lm\") %>%\n",
    "       set_mode(\"regression\")\n",
    "\n",
    "\n",
    "\n",
    "share_recipe <- recipe(shares ~ ., data = publishing_train) %>%\n",
    "       step_scale(-shares, -Genre, -Day_Of_Week) %>%\n",
    "       step_center(-shares, -Genre, -Day_Of_Week)\n",
    "\n"
   ]
  },
  {
   "cell_type": "code",
   "execution_count": 146,
   "metadata": {},
   "outputs": [
    {
     "data": {
      "text/plain": [
       "══ Workflow [trained] ══════════════════════════════════════════════════════════\n",
       "\u001b[3mPreprocessor:\u001b[23m Recipe\n",
       "\u001b[3mModel:\u001b[23m linear_reg()\n",
       "\n",
       "── Preprocessor ────────────────────────────────────────────────────────────────\n",
       "2 Recipe Steps\n",
       "\n",
       "● step_scale()\n",
       "● step_center()\n",
       "\n",
       "── Model ───────────────────────────────────────────────────────────────────────\n",
       "\n",
       "Call:\n",
       "stats::lm(formula = ..y ~ ., data = data)\n",
       "\n",
       "Coefficients:\n",
       "             (Intercept)             Genrebusiness           Genretechnology  \n",
       "                 3270.49                    374.09                    279.43  \n",
       "          Genrelifestyle                Genreworld         Genresocial_media  \n",
       "                  834.24                   -561.80                    816.62  \n",
       "      Day_Of_Weektuesday      Day_Of_Weekwednesday       Day_Of_Weekthursday  \n",
       "                 -587.41                   -494.65                   -472.78  \n",
       "       Day_Of_Weekfriday       Day_Of_Weeksaturday         Day_Of_Weeksunday  \n",
       "                 -542.70                    -63.13                    141.00  \n",
       "          n_tokens_title        title_subjectivity  title_sentiment_polarity  \n",
       "                  109.47                    153.29                    138.08  \n"
      ]
     },
     "metadata": {},
     "output_type": "display_data"
    }
   ],
   "source": [
    "\n",
    "\n",
    "share_fit <- workflow() %>%\n",
    "       add_recipe(share_recipe) %>%\n",
    "       add_model(share_spec) %>%\n",
    "       fit(publishing_train)\n",
    "\n",
    "share_fit\n",
    "\n",
    "\n",
    "\n"
   ]
  },
  {
   "cell_type": "code",
   "execution_count": 147,
   "metadata": {},
   "outputs": [
    {
     "data": {
      "text/html": [
       "<table>\n",
       "<caption>A tibble: 3 × 3</caption>\n",
       "<thead>\n",
       "\t<tr><th scope=col>.metric</th><th scope=col>.estimator</th><th scope=col>.estimate</th></tr>\n",
       "\t<tr><th scope=col>&lt;chr&gt;</th><th scope=col>&lt;chr&gt;</th><th scope=col>&lt;dbl&gt;</th></tr>\n",
       "</thead>\n",
       "<tbody>\n",
       "\t<tr><td>rmse</td><td>standard</td><td>6.061488e+03</td></tr>\n",
       "\t<tr><td>rsq </td><td>standard</td><td>5.750336e-03</td></tr>\n",
       "\t<tr><td>mae </td><td>standard</td><td>2.469849e+03</td></tr>\n",
       "</tbody>\n",
       "</table>\n"
      ],
      "text/latex": [
       "A tibble: 3 × 3\n",
       "\\begin{tabular}{lll}\n",
       " .metric & .estimator & .estimate\\\\\n",
       " <chr> & <chr> & <dbl>\\\\\n",
       "\\hline\n",
       "\t rmse & standard & 6.061488e+03\\\\\n",
       "\t rsq  & standard & 5.750336e-03\\\\\n",
       "\t mae  & standard & 2.469849e+03\\\\\n",
       "\\end{tabular}\n"
      ],
      "text/markdown": [
       "\n",
       "A tibble: 3 × 3\n",
       "\n",
       "| .metric &lt;chr&gt; | .estimator &lt;chr&gt; | .estimate &lt;dbl&gt; |\n",
       "|---|---|---|\n",
       "| rmse | standard | 6.061488e+03 |\n",
       "| rsq  | standard | 5.750336e-03 |\n",
       "| mae  | standard | 2.469849e+03 |\n",
       "\n"
      ],
      "text/plain": [
       "  .metric .estimator .estimate   \n",
       "1 rmse    standard   6.061488e+03\n",
       "2 rsq     standard   5.750336e-03\n",
       "3 mae     standard   2.469849e+03"
      ]
     },
     "metadata": {},
     "output_type": "display_data"
    }
   ],
   "source": [
    "share_results <- share_fit %>%\n",
    "         predict(publishing_test) %>%\n",
    "         bind_cols(publishing_test) %>%\n",
    "         metrics(truth = shares, estimate = .pred)\n",
    "\n",
    "share_results\n",
    "lm_rmspe <- share_results %>%\n",
    "          filter(.metric == \"rmse\") %>%\n",
    "          select(.estimate) %>%\n",
    "          pull()\n"
   ]
  },
  {
   "cell_type": "code",
   "execution_count": 148,
   "metadata": {},
   "outputs": [
    {
     "data": {
      "text/html": [
       "6075.16762002201"
      ],
      "text/latex": [
       "6075.16762002201"
      ],
      "text/markdown": [
       "6075.16762002201"
      ],
      "text/plain": [
       "[1] 6075.168"
      ]
     },
     "metadata": {},
     "output_type": "display_data"
    },
    {
     "name": "stderr",
     "output_type": "stream",
     "text": [
      "`stat_bin()` using `bins = 30`. Pick better value with `binwidth`.\n",
      "\n"
     ]
    },
    {
     "data": {
      "image/png": "[encoded data removed]",
      "text/plain": [
       "plot without title"
      ]
     },
     "metadata": {
      "image/png": {
       "height": 900,
       "width": 900
      }
     },
     "output_type": "display_data"
    }
   ],
   "source": [
    "std_dev <- pull(summarize(publishing_test, sd(shares)))\n",
    "mean <- pull(summarize(publishing_test, mean(shares)))\n",
    "std_dev\n",
    "\n",
    "\n",
    "\n",
    "ggplot(publishing_test, aes(x=shares)) +\n",
    "    geom_histogram()+\n",
    "    geom_vline(aes(xintercept=mean+lm_rmspe),color=\"blue\")+\n",
    "    geom_vline(aes(xintercept=mean-lm_rmspe),color=\"blue\")+\n",
    "    geom_vline(aes(xintercept=mean),color=\"red\")\n"
   ]
  },
  {
   "cell_type": "code",
   "execution_count": null,
   "metadata": {},
   "outputs": [],
   "source": []
  },
  {
   "cell_type": "code",
   "execution_count": null,
   "metadata": {},
   "outputs": [],
   "source": []
  }
 ],
 "metadata": {
  "kernelspec": {
   "display_name": "R",
   "language": "R",
   "name": "ir"
  },
  "language_info": {
   "codemirror_mode": "r",
   "file_extension": ".r",
   "mimetype": "text/x-r-source",
   "name": "R",
   "pygments_lexer": "r",
   "version": "4.0.0"
  }
 },
 "nbformat": 4,
 "nbformat_minor": 4
}
