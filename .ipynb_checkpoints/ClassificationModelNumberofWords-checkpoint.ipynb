{
 "cells": [
  {
   "cell_type": "code",
   "execution_count": 67,
   "metadata": {},
   "outputs": [],
   "source": [
    "library(tidyverse)\n",
    "library(repr)\n",
    "library(tidymodels)"
   ]
  },
  {
   "cell_type": "code",
   "execution_count": 68,
   "metadata": {},
   "outputs": [
    {
     "name": "stderr",
     "output_type": "stream",
     "text": [
      "Parsed with column specification:\n",
      "cols(\n",
      "  .default = col_double(),\n",
      "  url = \u001b[31mcol_character()\u001b[39m\n",
      ")\n",
      "\n",
      "See spec(...) for full column specifications.\n",
      "\n"
     ]
    }
   ],
   "source": [
    "data <- read_csv(\"https://docs.google.com/spreadsheets/d/e/2PACX-1vSTyupJYW8-dOI7rTKOVE-bMT4M_8UnVnRLOJGavyVh33-4wHTkP4Q-uWX9mwMQul2kxMl8aJLR0FHB/pub?output=csv\")"
   ]
  },
  {
   "cell_type": "code",
   "execution_count": 69,
   "metadata": {},
   "outputs": [],
   "source": [
    "\n",
    "\n",
    "named_data <- data %>%\n",
    "    rename(\n",
    "        monday = weekday_is_monday,\n",
    "        tuesday = weekday_is_tuesday,\n",
    "        wednesday = weekday_is_wednesday,\n",
    "        thursday = weekday_is_thursday,\n",
    "        friday = weekday_is_friday,\n",
    "        saturday = weekday_is_saturday,\n",
    "        sunday = weekday_is_sunday,\n",
    "        lifestyle = data_channel_is_lifestyle,\n",
    "        entertainment =  data_channel_is_entertainment,\n",
    "        business = data_channel_is_bus,\n",
    "        society_and_medicine =  data_channel_is_socmed,\n",
    "        technology =  data_channel_is_tech,\n",
    "        world =  data_channel_is_world,\n",
    "    )\n"
   ]
  },
  {
   "cell_type": "code",
   "execution_count": 70,
   "metadata": {},
   "outputs": [
    {
     "data": {
      "text/html": [
       "<table>\n",
       "<caption>A tibble: 6 × 5</caption>\n",
       "<thead>\n",
       "\t<tr><th scope=col>Genre</th><th scope=col>Day_Of_Week</th><th scope=col>shares</th><th scope=col>Popular</th><th scope=col>n_tokens_content</th></tr>\n",
       "\t<tr><th scope=col>&lt;fct&gt;</th><th scope=col>&lt;fct&gt;</th><th scope=col>&lt;dbl&gt;</th><th scope=col>&lt;fct&gt;</th><th scope=col>&lt;dbl&gt;</th></tr>\n",
       "</thead>\n",
       "<tbody>\n",
       "\t<tr><td>entertainment</td><td>monday</td><td> 593</td><td>FALSE</td><td> 219</td></tr>\n",
       "\t<tr><td>business     </td><td>monday</td><td> 711</td><td>FALSE</td><td> 255</td></tr>\n",
       "\t<tr><td>business     </td><td>monday</td><td>1500</td><td>FALSE</td><td> 211</td></tr>\n",
       "\t<tr><td>entertainment</td><td>monday</td><td>1200</td><td>FALSE</td><td> 531</td></tr>\n",
       "\t<tr><td>technology   </td><td>monday</td><td> 505</td><td>FALSE</td><td>1072</td></tr>\n",
       "\t<tr><td>technology   </td><td>monday</td><td> 855</td><td>FALSE</td><td> 370</td></tr>\n",
       "</tbody>\n",
       "</table>\n"
      ],
      "text/latex": [
       "A tibble: 6 × 5\n",
       "\\begin{tabular}{lllll}\n",
       " Genre & Day\\_Of\\_Week & shares & Popular & n\\_tokens\\_content\\\\\n",
       " <fct> & <fct> & <dbl> & <fct> & <dbl>\\\\\n",
       "\\hline\n",
       "\t entertainment & monday &  593 & FALSE &  219\\\\\n",
       "\t business      & monday &  711 & FALSE &  255\\\\\n",
       "\t business      & monday & 1500 & FALSE &  211\\\\\n",
       "\t entertainment & monday & 1200 & FALSE &  531\\\\\n",
       "\t technology    & monday &  505 & FALSE & 1072\\\\\n",
       "\t technology    & monday &  855 & FALSE &  370\\\\\n",
       "\\end{tabular}\n"
      ],
      "text/markdown": [
       "\n",
       "A tibble: 6 × 5\n",
       "\n",
       "| Genre &lt;fct&gt; | Day_Of_Week &lt;fct&gt; | shares &lt;dbl&gt; | Popular &lt;fct&gt; | n_tokens_content &lt;dbl&gt; |\n",
       "|---|---|---|---|---|\n",
       "| entertainment | monday |  593 | FALSE |  219 |\n",
       "| business      | monday |  711 | FALSE |  255 |\n",
       "| business      | monday | 1500 | FALSE |  211 |\n",
       "| entertainment | monday | 1200 | FALSE |  531 |\n",
       "| technology    | monday |  505 | FALSE | 1072 |\n",
       "| technology    | monday |  855 | FALSE |  370 |\n",
       "\n"
      ],
      "text/plain": [
       "  Genre         Day_Of_Week shares Popular n_tokens_content\n",
       "1 entertainment monday       593   FALSE    219            \n",
       "2 business      monday       711   FALSE    255            \n",
       "3 business      monday      1500   FALSE    211            \n",
       "4 entertainment monday      1200   FALSE    531            \n",
       "5 technology    monday       505   FALSE   1072            \n",
       "6 technology    monday       855   FALSE    370            "
      ]
     },
     "metadata": {},
     "output_type": "display_data"
    },
    {
     "data": {
      "text/html": [
       "33510"
      ],
      "text/latex": [
       "33510"
      ],
      "text/markdown": [
       "33510"
      ],
      "text/plain": [
       "[1] 33510"
      ]
     },
     "metadata": {},
     "output_type": "display_data"
    }
   ],
   "source": [
    "#It didn't work when all in one pipe, I have no idea why. This seems to work though\n",
    "tidy_data <- named_data %>%\n",
    "    pivot_longer(cols =  lifestyle:world, \n",
    "                 names_to = 'Genre', \n",
    "                 values_to = 'Genre_Present') %>%\n",
    "    filter(Genre_Present == 1) %>%\n",
    "    pivot_longer(cols =   monday:sunday, \n",
    "                 names_to = 'Day_Of_Week', \n",
    "                 values_to = 'Day_Present') %>%\n",
    "    filter(Day_Present == 1) %>%\n",
    "    mutate(Genre = as_factor(Genre)) %>%\n",
    "    mutate(Day_Of_Week = as_factor(Day_Of_Week))%>%\n",
    "    mutate (Popular = shares > 1500)%>%\n",
    "    mutate(Popular = as_factor(Popular)) %>%\n",
    "    select(Genre, Day_Of_Week, shares, Popular,n_tokens_content)\n",
    "\n",
    "head(tidy_data)\n",
    "nrow(tidy_data)\n",
    "#tidy my data and creates column genre, day of week, shares, popular and number of keywords\n",
    "#the goal of this model is to predict whether an article is popular or unpopular based on the number of words in the article itself. \n",
    "#I have decided that any article that has over 1500 shares = popular\n",
    "#this means that we are kind of using \"shares\" as our class but with a threshold set and our predictor will be number of words"
   ]
  },
  {
   "cell_type": "code",
   "execution_count": 71,
   "metadata": {},
   "outputs": [
    {
     "data": {
      "image/png": "[encoded data removed]",
      "text/plain": [
       "plot without title"
      ]
     },
     "metadata": {
      "image/png": {
       "height": 600,
       "width": 720
      }
     },
     "output_type": "display_data"
    }
   ],
   "source": [
    "options(repr.plot.width = 12, repr.plot.height = 10)\n",
    "publish_plot <- tidy_data %>%\n",
    "    ggplot(aes(x = Day_Of_Week, y = shares, fill = Genre)) + \n",
    "    geom_bar(stat = 'identity') +\n",
    "    xlab(\"Day of the Week\") +\n",
    "    ylab(\"Number of Shares\") +\n",
    "    labs(fill = \"Genre of Article\") +\n",
    "    theme(text = element_text(size = 20))\n",
    "\n",
    "publish_plot\n",
    "#This plot allows me to see which days of the week have the most articles shared. we can see that articles are mostly shared during the weekdays. \n",
    "#this may affect our data because there isnt an even distribution of when the articles are shared. \n",
    "#we can see which genre of article is more popular in a given week, for example, technology is most popular during wednesdays"
   ]
  },
  {
   "cell_type": "markdown",
   "metadata": {},
   "source": [
    "PREDICT WHETHER A GENRE OF ARTICLE IS POPULAR OR NOT "
   ]
  },
  {
   "cell_type": "code",
   "execution_count": 72,
   "metadata": {},
   "outputs": [
    {
     "data": {
      "text/html": [
       "<table>\n",
       "<caption>A tibble: 6 × 5</caption>\n",
       "<thead>\n",
       "\t<tr><th scope=col>Genre</th><th scope=col>Day_Of_Week</th><th scope=col>shares</th><th scope=col>Popular</th><th scope=col>n_tokens_content</th></tr>\n",
       "\t<tr><th scope=col>&lt;fct&gt;</th><th scope=col>&lt;fct&gt;</th><th scope=col>&lt;dbl&gt;</th><th scope=col>&lt;fct&gt;</th><th scope=col>&lt;dbl&gt;</th></tr>\n",
       "</thead>\n",
       "<tbody>\n",
       "\t<tr><td>entertainment</td><td>monday</td><td> 593</td><td>FALSE</td><td> 219</td></tr>\n",
       "\t<tr><td>business     </td><td>monday</td><td> 711</td><td>FALSE</td><td> 255</td></tr>\n",
       "\t<tr><td>business     </td><td>monday</td><td>1500</td><td>FALSE</td><td> 211</td></tr>\n",
       "\t<tr><td>entertainment</td><td>monday</td><td>1200</td><td>FALSE</td><td> 531</td></tr>\n",
       "\t<tr><td>technology   </td><td>monday</td><td> 505</td><td>FALSE</td><td>1072</td></tr>\n",
       "\t<tr><td>technology   </td><td>monday</td><td> 855</td><td>FALSE</td><td> 370</td></tr>\n",
       "</tbody>\n",
       "</table>\n"
      ],
      "text/latex": [
       "A tibble: 6 × 5\n",
       "\\begin{tabular}{lllll}\n",
       " Genre & Day\\_Of\\_Week & shares & Popular & n\\_tokens\\_content\\\\\n",
       " <fct> & <fct> & <dbl> & <fct> & <dbl>\\\\\n",
       "\\hline\n",
       "\t entertainment & monday &  593 & FALSE &  219\\\\\n",
       "\t business      & monday &  711 & FALSE &  255\\\\\n",
       "\t business      & monday & 1500 & FALSE &  211\\\\\n",
       "\t entertainment & monday & 1200 & FALSE &  531\\\\\n",
       "\t technology    & monday &  505 & FALSE & 1072\\\\\n",
       "\t technology    & monday &  855 & FALSE &  370\\\\\n",
       "\\end{tabular}\n"
      ],
      "text/markdown": [
       "\n",
       "A tibble: 6 × 5\n",
       "\n",
       "| Genre &lt;fct&gt; | Day_Of_Week &lt;fct&gt; | shares &lt;dbl&gt; | Popular &lt;fct&gt; | n_tokens_content &lt;dbl&gt; |\n",
       "|---|---|---|---|---|\n",
       "| entertainment | monday |  593 | FALSE |  219 |\n",
       "| business      | monday |  711 | FALSE |  255 |\n",
       "| business      | monday | 1500 | FALSE |  211 |\n",
       "| entertainment | monday | 1200 | FALSE |  531 |\n",
       "| technology    | monday |  505 | FALSE | 1072 |\n",
       "| technology    | monday |  855 | FALSE |  370 |\n",
       "\n"
      ],
      "text/plain": [
       "  Genre         Day_Of_Week shares Popular n_tokens_content\n",
       "1 entertainment monday       593   FALSE    219            \n",
       "2 business      monday       711   FALSE    255            \n",
       "3 business      monday      1500   FALSE    211            \n",
       "4 entertainment monday      1200   FALSE    531            \n",
       "5 technology    monday       505   FALSE   1072            \n",
       "6 technology    monday       855   FALSE    370            "
      ]
     },
     "metadata": {},
     "output_type": "display_data"
    },
    {
     "data": {
      "text/html": [
       "25133"
      ],
      "text/latex": [
       "25133"
      ],
      "text/markdown": [
       "25133"
      ],
      "text/plain": [
       "[1] 25133"
      ]
     },
     "metadata": {},
     "output_type": "display_data"
    }
   ],
   "source": [
    "set.seed(1234)\n",
    "publishing_split <- initial_split(tidy_data, prop = 0.75, strata = Popular)\n",
    "publishing_train <- training(publishing_split)\n",
    "publishing_test <- testing(publishing_split)\n",
    "\n",
    "head(publishing_train)\n",
    "    nrow(publishing_train)\n"
   ]
  },
  {
   "cell_type": "code",
   "execution_count": 73,
   "metadata": {},
   "outputs": [
    {
     "data": {
      "text/plain": [
       "Data Recipe\n",
       "\n",
       "Inputs:\n",
       "\n",
       "      role #variables\n",
       "   outcome          1\n",
       " predictor          1\n",
       "\n",
       "Operations:\n",
       "\n",
       "Scaling for all_predictors()\n",
       "Centering for all_predictors()"
      ]
     },
     "metadata": {},
     "output_type": "display_data"
    }
   ],
   "source": [
    "knn_spec <- nearest_neighbor(weight_func = \"rectangular\", neighbors = tune()) %>% \n",
    "       set_engine(\"kknn\") %>%\n",
    "       set_mode(\"classification\") \n",
    "\n",
    "share_recipe <- recipe(Popular ~ n_tokens_content, data = publishing_train) %>%\n",
    "       step_scale(all_predictors()) %>%\n",
    "       step_center(all_predictors())\n",
    "share_recipe\n",
    "\n",
    "shares_vfold <- vfold_cv(publishing_train, v = 5, strata = Popular)\n",
    "gridvals <- tibble(neighbors = seq(1,30))\n",
    "# I chose to test 30 neighbours because it will give us more variety so that our data is not underfitted or overfitted"
   ]
  },
  {
   "cell_type": "code",
   "execution_count": null,
   "metadata": {},
   "outputs": [],
   "source": [
    "knn_results <- workflow() %>%\n",
    "    add_recipe(share_recipe)%>%\n",
    "    add_model(knn_spec) %>%\n",
    "    tune_grid(resamples = shares_vfold, grid = gridvals) %>%\n",
    "    collect_metrics()\n",
    "\n",
    "knn_results"
   ]
  },
  {
   "cell_type": "code",
   "execution_count": null,
   "metadata": {},
   "outputs": [],
   "source": [
    "accuracies <- knn_results %>%\n",
    "  filter(.metric == \"accuracy\")\n",
    "\n",
    "accuracy_vs_k <- ggplot(accuracies, aes(x = neighbors, y = mean)) +\n",
    "  geom_point() +\n",
    "  geom_line() +\n",
    "  labs(x = \"Neighbors\", y = \"Accuracy Estimate\")\n",
    "accuracy_vs_k\n",
    "filter(accuracies, mean ==max(mean))\n",
    "# I will use k = 17 as predicted by our plot above."
   ]
  },
  {
   "cell_type": "code",
   "execution_count": null,
   "metadata": {},
   "outputs": [],
   "source": [
    "share_spec <- nearest_neighbor(weight_func = \"rectangular\", neighbors = 29) %>% \n",
    "       set_engine(\"kknn\") %>%\n",
    "       set_mode(\"classification\") "
   ]
  },
  {
   "cell_type": "code",
   "execution_count": null,
   "metadata": {},
   "outputs": [],
   "source": [
    "share_recipe <- recipe(Popular ~ n_tokens_content, data = publishing_train) %>%\n",
    "       step_scale(all_predictors()) %>%\n",
    "       step_center(all_predictors())\n",
    "share_recipe"
   ]
  },
  {
   "cell_type": "code",
   "execution_count": null,
   "metadata": {},
   "outputs": [],
   "source": [
    "share_workflow <-workflow()%>%\n",
    "    add_model(share_spec)%>%\n",
    "    add_recipe(share_recipe)\n",
    "\n",
    "share_workflow"
   ]
  },
  {
   "cell_type": "code",
   "execution_count": null,
   "metadata": {},
   "outputs": [],
   "source": [
    "share_fit <- fit(share_workflow, data = publishing_train)\n",
    "share_fit"
   ]
  },
  {
   "cell_type": "code",
   "execution_count": null,
   "metadata": {},
   "outputs": [],
   "source": [
    "share_test_predictions <- predict(share_fit, publishing_test) %>%\n",
    "  bind_cols(publishing_test)\n",
    "share_test_predictions"
   ]
  },
  {
   "cell_type": "code",
   "execution_count": null,
   "metadata": {},
   "outputs": [],
   "source": [
    "share_test_predictions %>%\n",
    "  metrics(truth = Popular, estimate = .pred_class)"
   ]
  },
  {
   "cell_type": "code",
   "execution_count": null,
   "metadata": {},
   "outputs": [],
   "source": [
    "popular_to_unpopular_ratio <- publishing_train%>%\n",
    "    group_by(Popular)%>%\n",
    "    summarize(count = n())\n",
    "popular_to_unpopular_ratio"
   ]
  },
  {
   "cell_type": "code",
   "execution_count": null,
   "metadata": {},
   "outputs": [],
   "source": [
    "options(repr.plot.width = 20, repr.plot.height = 20)\n",
    "\n",
    "\n",
    "share_plot <- ggplot(share_test_predictions, aes(x = reorder(Genre, shares), y = shares, fill = Popular)) +\n",
    "    geom_bar(stat = \"identity\") +\n",
    "    labs(x = \"Genre\", y = \"Shares\",  fill = \"Popular\") +\n",
    "    theme(text = element_text(size = 18))+\n",
    "    coord_flip()\n",
    "share_plot"
   ]
  },
  {
   "cell_type": "code",
   "execution_count": null,
   "metadata": {},
   "outputs": [],
   "source": [
    "options(repr.plot.width = 15, repr.plot.height = 10)\n",
    "share_plot_scatter <- ggplot(share_test_predictions, aes(x = Genre, y = shares, color = Popular)) +\n",
    "    geom_point() +\n",
    "    labs(x = \"Genre\", y = \"Shares\",  fill = \"Popular\") +\n",
    "    theme(text = element_text(size = 18))\n",
    "share_plot_scatter"
   ]
  },
  {
   "cell_type": "code",
   "execution_count": null,
   "metadata": {},
   "outputs": [],
   "source": []
  }
 ],
 "metadata": {
  "kernelspec": {
   "display_name": "R",
   "language": "R",
   "name": "ir"
  },
  "language_info": {
   "codemirror_mode": "r",
   "file_extension": ".r",
   "mimetype": "text/x-r-source",
   "name": "R",
   "pygments_lexer": "r",
   "version": "4.0.0"
  }
 },
 "nbformat": 4,
 "nbformat_minor": 4
}
